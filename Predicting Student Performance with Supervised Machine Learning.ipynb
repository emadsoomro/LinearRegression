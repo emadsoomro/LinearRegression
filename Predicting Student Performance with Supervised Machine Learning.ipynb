{
  "nbformat": 4,
  "nbformat_minor": 0,
  "metadata": {
    "colab": {
      "provenance": []
    },
    "kernelspec": {
      "name": "python3",
      "display_name": "Python 3"
    },
    "language_info": {
      "name": "python"
    }
  },
  "cells": [
    {
      "cell_type": "code",
      "execution_count": null,
      "metadata": {
        "colab": {
          "base_uri": "https://localhost:8080/"
        },
        "id": "ozcs5xfgLMPD",
        "outputId": "34d2f3b8-a288-49c0-e852-e9439ac35e33"
      },
      "outputs": [
        {
          "output_type": "execute_result",
          "data": {
            "text/plain": [
              "array([[92.14523315]])"
            ]
          },
          "metadata": {},
          "execution_count": 10
        }
      ],
      "source": [
        "import pandas as pd\n",
        "import matplotlib.pyplot as plt\n",
        "from sklearn.linear_model import LinearRegression\n",
        "data=pd.read_csv(\"https://raw.githubusercontent.com/AdiPersonalWorks/Random/master/student_scores%20-%20student_scores.csv\")\n",
        "X=data[\"Hours\"].values.reshape(-1, 1)\n",
        "Y=data[\"Scores\"].values.reshape(-1, 1)\n",
        "from sklearn.model_selection import train_test_split\n",
        "X_train, X_test, Y_train, Y_test=train_test_split(X, Y, test_size=1/3, random_state=0)\n",
        "reg= LinearRegression()\n",
        "reg.fit(X_train,Y_train)\n",
        "reg.predict([[input()]])"
      ]
    }
  ]
}